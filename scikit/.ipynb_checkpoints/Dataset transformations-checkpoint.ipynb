{
 "cells": [
  {
   "cell_type": "markdown",
   "id": "1fba4b5e",
   "metadata": {},
   "source": [
    "# Data Preprocessing\n",
    "\n",
    "Data preprocessing is the process of transforming raw data into an understandable format. It is also an important step in data mining as we cannot work with raw data. The quality of the data should be checked before applying machine learning or data mining algorithms.\n",
    "\n",
    "## Why is Data preprocessing important?\n",
    "\n",
    "Preprocessing of data is mainly to check the data quality. The quality can be checked by the following\n",
    "\n",
    "   * Accuracy: To check whether the data entered is correct or not.\n",
    "   * Completeness: To check whether the data is available or not recorded.\n",
    "   * Consistency: To check whether the same data is kept in all the places that do or do not match.\n",
    "   * Timeliness: The data should be updated correctly.\n",
    "   * Believability: The data should be trustable.\n",
    "   * Interpretability: The understandability of the data.\n",
    "\n",
    "**Major Tasks in Data Preprocessing:**\n",
    "   1. Data cleaning\n",
    "   2. Data integration\n",
    "   3. Data reduction\n",
    "   4. Data transformation\n"
   ]
  },
  {
   "cell_type": "markdown",
   "id": "a549bc93",
   "metadata": {},
   "source": [
    "## 1. Standardization"
   ]
  },
  {
   "cell_type": "code",
   "execution_count": 71,
   "id": "36637c81",
   "metadata": {},
   "outputs": [
    {
     "data": {
      "image/png": "[encoded data removed]",
      "text/plain": [
       "<Figure size 432x288 with 1 Axes>"
      ]
     },
     "metadata": {
      "needs_background": "light"
     },
     "output_type": "display_data"
    },
    {
     "data": {
      "image/png": "[encoded data removed]",
      "text/plain": [
       "<Figure size 432x288 with 1 Axes>"
      ]
     },
     "metadata": {
      "needs_background": "light"
     },
     "output_type": "display_data"
    }
   ],
   "source": [
    "import numpy as np\n",
    "from sklearn import preprocessing\n",
    "import matplotlib.pyplot as plt\n",
    "\n",
    "# Uniform distribution, merely rescale with variant and shift to zero\n",
    "uniform = np.random.randint(-5,21,size=100000)\n",
    "uniform = uniform.reshape(-1,1).astype(float)\n",
    "scaler = preprocessing.StandardScaler().fit(uniform)\n",
    "\n",
    "uniform_scaled = scaler.transform(uniform)\n",
    "\n",
    "plt.hist(uniform.reshape(-1), bins=np.arange(-10,24,1))\n",
    "plt.show()\n",
    "plt.hist(uniform_scaled.reshape(-1), bins=np.arange(-10,11,1))\n",
    "plt.show()"
   ]
  },
  {
   "cell_type": "code",
   "execution_count": 83,
   "id": "87001b34",
   "metadata": {},
   "outputs": [
    {
     "data": {
      "image/png": "[encoded data removed]",
      "text/plain": [
       "<Figure size 432x288 with 1 Axes>"
      ]
     },
     "metadata": {
      "needs_background": "light"
     },
     "output_type": "display_data"
    },
    {
     "data": {
      "image/png": "[encoded data removed]",
      "text/plain": [
       "<Figure size 432x288 with 1 Axes>"
      ]
     },
     "metadata": {
      "needs_background": "light"
     },
     "output_type": "display_data"
    }
   ],
   "source": [
    "# min-max range scaler\n",
    "min_max_scaler = preprocessing.MinMaxScaler()\n",
    "scaler = min_max_scaler.fit(uniform)\n",
    "\n",
    "min_max_scaled = scaler.transform(uniform)\n",
    "plt.hist(uniform.reshape(-1), bins=np.arange(-10,24,1))\n",
    "plt.show()\n",
    "plt.hist(min_max_scaled.reshape(-1), bins='auto')\n",
    "plt.show()"
   ]
  },
  {
   "cell_type": "code",
   "execution_count": 84,
   "id": "dc5e18bf",
   "metadata": {},
   "outputs": [
    {
     "ename": "SyntaxError",
     "evalue": "invalid syntax (<ipython-input-84-014da47db412>, line 2)",
     "output_type": "error",
     "traceback": [
      "\u001b[0;36m  File \u001b[0;32m\"<ipython-input-84-014da47db412>\"\u001b[0;36m, line \u001b[0;32m2\u001b[0m\n\u001b[0;31m    ```Centering sparse data would destroy the sparseness structure in the data, and thus rarely is a sensible thing to do. However, it can make sense to scale sparse inputs, especially if features are on different scales.\u001b[0m\n\u001b[0m    ^\u001b[0m\n\u001b[0;31mSyntaxError\u001b[0m\u001b[0;31m:\u001b[0m invalid syntax\n"
     ]
    }
   ],
   "source": [
    "# Scaling sparse data\n",
    "'''\n",
    "Centering sparse data would destroy the sparseness structure in the data, and thus rarely is a sensible thing to do. However, it can make sense to scale sparse inputs, especially if features are on different scales.\n",
    "MaxAbsScaler was specifically designed for scaling sparse data, and is the recommended way to go about this\n",
    "'''"
   ]
  },
  {
   "cell_type": "code",
   "execution_count": 33,
   "id": "d815288e",
   "metadata": {},
   "outputs": [
    {
     "data": {
      "text/plain": [
       "(array([ 9912, 10124, 10017,  9943,  9902, 10022,  9854, 10038, 10008,\n",
       "        10180]),\n",
       " array([-10. ,  -8.1,  -6.2,  -4.3,  -2.4,  -0.5,   1.4,   3.3,   5.2,\n",
       "          7.1,   9. ]))"
      ]
     },
     "execution_count": 33,
     "metadata": {},
     "output_type": "execute_result"
    }
   ],
   "source": [
    "# Scaling data with outliers\n",
    "'''Scaling using the mean and variance of the data is likely to not work very well if there are many outliners. \n",
    "In these cases, you can use RobustScaler as a drop-in replacement instead. \n",
    "It uses more robust estimates for the center and range of your data.'''"
   ]
  },
  {
   "cell_type": "code",
   "execution_count": null,
   "id": "05f53eca",
   "metadata": {},
   "outputs": [],
   "source": []
  }
 ],
 "metadata": {
  "kernelspec": {
   "display_name": "Python 3.7.10 64-bit ('Erdos': conda)",
   "language": "python",
   "name": "python371064biterdosconda7530abd590984c45ba6372cad090cba4"
  },
  "language_info": {
   "codemirror_mode": {
    "name": "ipython",
    "version": 3
   },
   "file_extension": ".py",
   "mimetype": "text/x-python",
   "name": "python",
   "nbconvert_exporter": "python",
   "pygments_lexer": "ipython3",
   "version": "3.7.10"
  }
 },
 "nbformat": 4,
 "nbformat_minor": 5
}
