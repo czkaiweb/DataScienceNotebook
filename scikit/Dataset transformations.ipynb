{
 "cells": [
  {
   "cell_type": "markdown",
   "id": "21af8227",
   "metadata": {},
   "source": [
    "#  Pipelines and composite estimators\n",
    "\n",
    "### Pipeline: chaining estimators\n",
    "\n",
    "Pipeline can be used to chain multiple estimators into one. This is useful as there is often a fixed sequence of steps in processing the data, for example feature selection, normalization and classification. Pipeline serves multiple purposes here:\n",
    "\n",
    "**Convenience and encapsulation**\n",
    "  * You only have to call fit and predict once on your data to fit a whole sequence of estimators.\n",
    "  \n",
    "**Joint parameter selection**\n",
    "  * You can grid search over parameters of all estimators in the pipeline at once.\n",
    "  \n",
    "**Safety** \n",
    "  * Pipelines help avoid leaking statistics from your test data into the trained model in cross-validation, by ensuring that the same samples are used to train the transformers and predictors.\n"
   ]
  },
  {
   "cell_type": "code",
   "execution_count": 121,
   "id": "ea72131f",
   "metadata": {},
   "outputs": [
    {
     "data": {
      "text/plain": [
       "Pipeline(steps=[('reduce_dim', PCA()), ('clf', SVC())])"
      ]
     },
     "execution_count": 121,
     "metadata": {},
     "output_type": "execute_result"
    }
   ],
   "source": [
    "# Build pipeline\n",
    "from sklearn.pipeline import Pipeline\n",
    "from sklearn.svm import SVC\n",
    "from sklearn.decomposition import PCA\n",
    "estimators = [('reduce_dim', PCA()), ('clf', SVC())]\n",
    "pipe = Pipeline(estimators)\n",
    "pipe\n",
    "Pipeline(steps=[('reduce_dim', PCA()), ('clf', SVC())])\n",
    "\n",
    "# Or use `from sklearn.pipeline import make_pipeline`"
   ]
  },
  {
   "cell_type": "markdown",
   "id": "d53c3bae",
   "metadata": {},
   "source": [
    "### Nested parameters\n",
    "Parameters of the estimators in the pipeline can be accessed using the \\<estimator\\>__\\<parameter\\> syntax:"
   ]
  },
  {
   "cell_type": "code",
   "execution_count": 123,
   "id": "9327dc51",
   "metadata": {},
   "outputs": [],
   "source": [
    "pipe.set_params(clf__C=10)  # Set C in SVC to 10\n",
    "\n",
    "# Especially useful with GridSearchCV\n",
    "from sklearn.model_selection import GridSearchCV\n",
    "param_grid = dict(reduce_dim__n_components=[2, 5, 10],clf__C=[0.1, 10, 100])\n",
    "grid_search = GridSearchCV(pipe, param_grid=param_grid)\n",
    "\n"
   ]
  },
  {
   "cell_type": "markdown",
   "id": "401fb6eb",
   "metadata": {},
   "source": [
    "### Transforming target in regression\n",
    " \n",
    "TransformedTargetRegressor transforms the targets y before fitting a regression model. The predictions are mapped back to the original space via an inverse transform. It takes as an argument the regressor that will be used for prediction, and the transformer that will be applied to the target variable:"
   ]
  },
  {
   "cell_type": "markdown",
   "id": "505cd400",
   "metadata": {},
   "source": [
    "### FeatureUnion: composite feature spaces\n"
   ]
  },
  {
   "cell_type": "markdown",
   "id": "588bada8",
   "metadata": {},
   "source": [
    "# Data Preprocessing\n",
    "\n",
    "Data preprocessing is the process of transforming raw data into an understandable format. It is also an important step in data mining as we cannot work with raw data. The quality of the data should be checked before applying machine learning or data mining algorithms.\n",
    "\n",
    "## Why is Data preprocessing important?\n",
    "\n",
    "Preprocessing of data is mainly to check the data quality. The quality can be checked by the following\n",
    "\n",
    "   * Accuracy: To check whether the data entered is correct or not.\n",
    "   * Completeness: To check whether the data is available or not recorded.\n",
    "   * Consistency: To check whether the same data is kept in all the places that do or do not match.\n",
    "   * Timeliness: The data should be updated correctly.\n",
    "   * Believability: The data should be trustable.\n",
    "   * Interpretability: The understandability of the data.\n",
    "\n",
    "**Major Tasks in Data Preprocessing:**\n",
    "   1. Data cleaning\n",
    "   2. Data integration\n",
    "   3. Data reduction\n",
    "   4. Data transformation\n"
   ]
  },
  {
   "cell_type": "markdown",
   "id": "a0b5a1a6",
   "metadata": {},
   "source": [
    "## 1. Standardization"
   ]
  },
  {
   "cell_type": "code",
   "execution_count": 71,
   "id": "bbd7fd1d",
   "metadata": {},
   "outputs": [
    {
     "data": {
      "image/png": "[encoded data removed]",
      "text/plain": [
       "<Figure size 432x288 with 1 Axes>"
      ]
     },
     "metadata": {
      "needs_background": "light"
     },
     "output_type": "display_data"
    },
    {
     "data": {
      "image/png": "[encoded data removed]",
      "text/plain": [
       "<Figure size 432x288 with 1 Axes>"
      ]
     },
     "metadata": {
      "needs_background": "light"
     },
     "output_type": "display_data"
    }
   ],
   "source": [
    "import numpy as np\n",
    "from sklearn import preprocessing\n",
    "import matplotlib.pyplot as plt\n",
    "\n",
    "# Uniform distribution, merely rescale with variant and shift to zero\n",
    "uniform = np.random.randint(-5,21,size=100000)\n",
    "uniform = uniform.reshape(-1,1).astype(float)\n",
    "scaler = preprocessing.StandardScaler().fit(uniform)\n",
    "\n",
    "uniform_scaled = scaler.transform(uniform)\n",
    "\n",
    "plt.hist(uniform.reshape(-1), bins=np.arange(-10,24,1))\n",
    "plt.show()\n",
    "plt.hist(uniform_scaled.reshape(-1), bins=np.arange(-10,11,1))\n",
    "plt.show()"
   ]
  },
  {
   "cell_type": "code",
   "execution_count": 83,
   "id": "f58b7dbe",
   "metadata": {},
   "outputs": [
    {
     "data": {
      "image/png": "[encoded data removed]",
      "text/plain": [
       "<Figure size 432x288 with 1 Axes>"
      ]
     },
     "metadata": {
      "needs_background": "light"
     },
     "output_type": "display_data"
    },
    {
     "data": {
      "image/png": "[encoded data removed]",
      "text/plain": [
       "<Figure size 432x288 with 1 Axes>"
      ]
     },
     "metadata": {
      "needs_background": "light"
     },
     "output_type": "display_data"
    }
   ],
   "source": [
    "# min-max range scaler\n",
    "min_max_scaler = preprocessing.MinMaxScaler()\n",
    "scaler = min_max_scaler.fit(uniform)\n",
    "\n",
    "min_max_scaled = scaler.transform(uniform)\n",
    "plt.hist(uniform.reshape(-1), bins=np.arange(-10,24,1))\n",
    "plt.show()\n",
    "plt.hist(min_max_scaled.reshape(-1), bins='auto')\n",
    "plt.show()"
   ]
  },
  {
   "cell_type": "code",
   "execution_count": 85,
   "id": "1a4791ec",
   "metadata": {},
   "outputs": [
    {
     "data": {
      "text/plain": [
       "'\\nCentering sparse data would destroy the sparseness structure in the data, and thus rarely is a sensible thing to do. However, it can make sense to scale sparse inputs, especially if features are on different scales.\\nMaxAbsScaler was specifically designed for scaling sparse data, and is the recommended way to go about this\\n'"
      ]
     },
     "execution_count": 85,
     "metadata": {},
     "output_type": "execute_result"
    }
   ],
   "source": [
    "# Scaling sparse data\n",
    "# Centering sparse data would destroy the sparseness structure in the data, and thus rarely is a sensible thing to do. However, it can make sense to scale sparse inputs, especially if features are on different scales.\n",
    "# MaxAbsScaler was specifically designed for scaling sparse data, and is the recommended way to go about this\n",
    "\n"
   ]
  },
  {
   "cell_type": "code",
   "execution_count": 120,
   "id": "ad6c070e",
   "metadata": {},
   "outputs": [
    {
     "data": {
      "image/png": "[encoded data removed]",
      "text/plain": [
       "<Figure size 432x288 with 1 Axes>"
      ]
     },
     "metadata": {
      "needs_background": "light"
     },
     "output_type": "display_data"
    },
    {
     "data": {
      "image/png": "[encoded data removed]",
      "text/plain": [
       "<Figure size 432x288 with 1 Axes>"
      ]
     },
     "metadata": {
      "needs_background": "light"
     },
     "output_type": "display_data"
    },
    {
     "data": {
      "image/png": "[encoded data removed]",
      "text/plain": [
       "<Figure size 432x288 with 1 Axes>"
      ]
     },
     "metadata": {
      "needs_background": "light"
     },
     "output_type": "display_data"
    }
   ],
   "source": [
    "# Scaling data with outliers\n",
    "# Scaling using the mean and variance of the data is likely to not work very well if there are many outliners. \n",
    "# In these cases, you can use RobustScaler as a drop-in replacement instead. \n",
    "# It uses more robust estimates for the center and range of your data.\n",
    "\n",
    "# robust scaler\n",
    "narrow_norm = np.random.normal(0,1,size=1000)\n",
    "wide_uniform = np.random.randint(0,1000,size=10)\n",
    "combine = np.concatenate((narrow_norm,wide_uniform))\n",
    "combine = combine.reshape(-1,1)\n",
    "\n",
    "robustscaler = preprocessing.RobustScaler()\n",
    "scaler = robustscaler.fit(combine)\n",
    "\n",
    "robust_scaled = scaler.transform(combine)\n",
    "plt.hist(combine.reshape(-1), bins='auto')\n",
    "plt.yscale(\"log\")\n",
    "plt.show()\n",
    "plt.hist(robust_scaled.reshape(-1), bins='auto')\n",
    "plt.yscale(\"log\")\n",
    "plt.show()\n",
    "\n",
    "# standardScaler\n",
    "scaler = preprocessing.StandardScaler().fit(combine)\n",
    "standard_scaled = scaler.transform(combine)\n",
    "\n",
    "plt.hist(standard_scaled.reshape(-1), bins='auto')\n",
    "plt.yscale(\"log\")\n",
    "plt.show()"
   ]
  },
  {
   "cell_type": "code",
   "execution_count": 119,
   "id": "4950fc45",
   "metadata": {},
   "outputs": [
    {
     "name": "stdout",
     "output_type": "stream",
     "text": [
      "[[ 3.76872566e-02]\n",
      " [-4.93465043e-01]\n",
      " [ 5.98110673e-01]\n",
      " ...\n",
      " [-9.15345612e-01]\n",
      " [-6.93332129e-02]\n",
      " [ 5.13317453e+02]]\n",
      "[[ 3.39020509e-02]\n",
      " [-7.10098632e-01]\n",
      " [ 8.18903650e-01]\n",
      " ...\n",
      " [-1.30103918e+00]\n",
      " [-1.16004675e-01]\n",
      " [ 7.19000000e+02]]\n"
     ]
    }
   ],
   "source": [
    "# Centering kernel matrices\n",
    "\n",
    "# To be completed"
   ]
  },
  {
   "cell_type": "code",
   "execution_count": null,
   "id": "1c7d1acd",
   "metadata": {},
   "outputs": [],
   "source": []
  }
 ],
 "metadata": {
  "kernelspec": {
   "display_name": "Python 3.7.10 64-bit ('Erdos': conda)",
   "language": "python",
   "name": "python371064biterdosconda7530abd590984c45ba6372cad090cba4"
  },
  "language_info": {
   "codemirror_mode": {
    "name": "ipython",
    "version": 3
   },
   "file_extension": ".py",
   "mimetype": "text/x-python",
   "name": "python",
   "nbconvert_exporter": "python",
   "pygments_lexer": "ipython3",
   "version": "3.7.10"
  }
 },
 "nbformat": 4,
 "nbformat_minor": 5
}
